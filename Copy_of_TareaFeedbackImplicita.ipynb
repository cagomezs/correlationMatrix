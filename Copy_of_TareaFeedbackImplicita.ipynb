{
  "nbformat": 4,
  "nbformat_minor": 0,
  "metadata": {
    "colab": {
      "provenance": [],
      "authorship_tag": "ABX9TyPYizqeIljtAjuPtfSqsc4U",
      "include_colab_link": true
    },
    "kernelspec": {
      "name": "python3",
      "display_name": "Python 3"
    },
    "language_info": {
      "name": "python"
    }
  },
  "cells": [
    {
      "cell_type": "markdown",
      "metadata": {
        "id": "view-in-github",
        "colab_type": "text"
      },
      "source": [
        "<a href=\"https://colab.research.google.com/github/cagomezs/correlationMatrix/blob/main/Copy_of_TareaFeedbackImplicita.ipynb\" target=\"_parent\"><img src=\"https://colab.research.google.com/assets/colab-badge.svg\" alt=\"Open In Colab\"/></a>"
      ]
    },
    {
      "cell_type": "code",
      "source": [
        "### Para correr los cálculos de deben correr todos los scripts\n",
        "\n",
        "import pandas as pd\n",
        "import io\n",
        "import numpy as np \n",
        "import math\n",
        "\n",
        "## link for the correlation matrix \n",
        "# https://github.com/cagomezs/correlationMatrix/blob/main/matrizCorrelacion.csv\n",
        "\n",
        "# function to order to get the frequencies \n",
        "def generateTermFrequencySorted (arrayTerms, arrayFrequencies):\n",
        "  sizeMatrix =  len(arrayTerms)\n",
        "  termFrequencyList = []\n",
        "  for k in range(sizeMatrix): termFrequencyList.append([ arrayFrequencies[k], arrayTerms[k]])\n",
        "  return sorted(termFrequencyList, reverse=True)\n",
        "\n",
        "## function to get the norma\n",
        "def getNorma (arrayTermK):\n",
        "  total = 0 \n",
        "  for i in range(len(arrayTermK)):\n",
        "    total+=pow(arrayTermK[i],2)\n",
        "  return math.sqrt(total)\n",
        "\n",
        "\n",
        "def sumProduct (arrayTermA, arrayTermB):\n",
        "  return sum([i*j for (i, j) in zip(arrayTermA, arrayTermB)])\n",
        "\n",
        "\n",
        "## Loading the correlation matrix \n",
        "url = \"https://raw.githubusercontent.com/cagomezs/correlationMatrix/main/matrizCorrelacion.csv\"\n",
        "df = pd.read_csv(url)\n",
        "data_frames = pd.DataFrame(df)\n",
        "loadedMatrix = np.array(data_frames.values)\n",
        "\n",
        "# Defined important data for calculations \n",
        "sizeMatrix =  len(loadedMatrix)\n",
        "newMatrix  = []\n",
        "terms =  []\n",
        "perseveraciaQueryIndex = 0\n",
        "\n",
        "## clean the correlation matrix \n",
        "for k in range(sizeMatrix):\n",
        "  terms.append(loadedMatrix[k][0])\n",
        "  if loadedMatrix[k][0]  == 'perseveran (sustativo)':\n",
        "    perseveraciaQueryIndex = k\n",
        "  row = np.delete(loadedMatrix[k],0)\n",
        "  newMatrix.append(list(row))\n",
        "\n",
        "print(\"El index de la query de perseverancia es \" + str(perseveraciaQueryIndex))\n",
        "\n",
        "## Asociation clusters \n",
        "sizeNewMatrix = len(newMatrix)\n",
        "normalizedMatrix = []\n",
        "for i in range(sizeNewMatrix):\n",
        "  normalizedSizeArray = []\n",
        "  for j in range(sizeNewMatrix):\n",
        "    newWeight = newMatrix[i][j] / ((newMatrix[j][j]+newMatrix[i][i]-newMatrix[i][j]) +1) ## +1 es agregado para suavizar y evitar div entre 0 \n",
        "    normalizedSizeArray.append(newWeight)\n",
        "  normalizedMatrix.append(normalizedSizeArray)\n",
        "\n",
        "print((generateTermFrequencySorted(terms,newMatrix[perseveraciaQueryIndex])))\n",
        "print((generateTermFrequencySorted(terms,normalizedMatrix[perseveraciaQueryIndex])))\n"
      ],
      "metadata": {
        "colab": {
          "base_uri": "https://localhost:8080/"
        },
        "id": "fjBelZS-dIje",
        "outputId": "f25bd618-0e6a-4cd9-8274-931d39bc06d5"
      },
      "execution_count": null,
      "outputs": [
        {
          "output_type": "stream",
          "name": "stdout",
          "text": [
            "El index de la query de perseverancia es 5\n",
            "[[22, 'perseveran (sustativo)'], [10, 'es/sera/son'], [6, 'no'], [5, 'caer'], [4, 'virtud/virtudes'], [4, 'fruto/frutos'], [3, 'solo'], [3, 'levantar'], [2, 'victoria'], [2, 'todas'], [2, 'tiempo'], [2, 'siembra'], [2, 'semilla'], [2, 'recoger'], [2, 'pertenecer'], [2, 'persistente'], [2, 'otras'], [2, 'obras'], [2, 'nunca'], [2, 'mas'], [2, 'hechas'], [2, 'haber'], [2, 'grandes'], [2, 'fuerza'], [2, 'fe'], [2, 'esta'], [2, 'dar'], [2, 'cuida'], [2, 'cuestion'], [1, 'vez'], [1, 'veces'], [1, 'superior'], [1, 'suficiente'], [1, 'subir'], [1, 'siete'], [1, 'siempre'], [1, 'puedes'], [1, 'permitido'], [1, 'peor'], [1, 'parte'], [1, 'ocho'], [1, 'obligatorio'], [1, 'mayor'], [1, 'llegar'], [1, 'intentar'], [1, 'hombre'], [1, 'gloria'], [1, 'duro'], [1, 'cualquier'], [1, 'cierto'], [1, 'camino'], [1, 'cada'], [1, 'andes']]\n",
            "[[0.9565217391304348, 'perseveran (sustativo)'], [0.45454545454545453, 'es/sera/son'], [0.25, 'no'], [0.2, 'caer'], [0.19047619047619047, 'fruto/frutos'], [0.17391304347826086, 'virtud/virtudes'], [0.13636363636363635, 'solo'], [0.13043478260869565, 'levantar'], [0.09090909090909091, 'victoria'], [0.09090909090909091, 'todas'], [0.09090909090909091, 'tiempo'], [0.09090909090909091, 'siembra'], [0.09090909090909091, 'semilla'], [0.09090909090909091, 'recoger'], [0.09090909090909091, 'pertenecer'], [0.09090909090909091, 'otras'], [0.09090909090909091, 'obras'], [0.09090909090909091, 'mas'], [0.09090909090909091, 'hechas'], [0.09090909090909091, 'grandes'], [0.09090909090909091, 'fuerza'], [0.09090909090909091, 'fe'], [0.09090909090909091, 'dar'], [0.09090909090909091, 'cuida'], [0.09090909090909091, 'cuestion'], [0.08695652173913043, 'nunca'], [0.08695652173913043, 'haber'], [0.08695652173913043, 'esta'], [0.08, 'persistente'], [0.043478260869565216, 'vez'], [0.043478260869565216, 'veces'], [0.043478260869565216, 'superior'], [0.043478260869565216, 'suficiente'], [0.043478260869565216, 'subir'], [0.043478260869565216, 'siete'], [0.043478260869565216, 'siempre'], [0.043478260869565216, 'puedes'], [0.043478260869565216, 'permitido'], [0.043478260869565216, 'peor'], [0.043478260869565216, 'parte'], [0.043478260869565216, 'ocho'], [0.043478260869565216, 'obligatorio'], [0.043478260869565216, 'mayor'], [0.043478260869565216, 'llegar'], [0.043478260869565216, 'intentar'], [0.043478260869565216, 'hombre'], [0.043478260869565216, 'gloria'], [0.043478260869565216, 'duro'], [0.043478260869565216, 'cualquier'], [0.043478260869565216, 'cierto'], [0.043478260869565216, 'camino'], [0.043478260869565216, 'cada'], [0.043478260869565216, 'andes']]\n"
          ]
        }
      ]
    },
    {
      "cell_type": "code",
      "source": [
        "### Metric clusters\n",
        "\n",
        "#### Mapping of the documents \n",
        "\n",
        "documents = [\n",
        "    [\"caer\" , \"siete\", \"veces\" , \"levantar\", \"ocho\", \"perseveran (sustativo)\"],  #checked#\n",
        "    [\"caer\",\"esta\",\"permitido\", \"levantar\",\"es/sera/son\",\"obligatorio\",\"perseveran (sustativo)\"], #checked# \n",
        "    [\"siembra\", \"semilla\",\"fe\",\"cuida\",\"perseveran (sustativo)\",\"solo\",\"es/sera/son\",\"cuestion\",\"tiempo\",\"recoger\",\"fruto/frutos\",\"perseveran (sustativo)\"], #checked#\n",
        "    [\"es/sera/son\", \"duro\", \"caer\", \"es/sera/son\", \"peor\",\"no\",\"haber\", \"intentar\", \"nunca\", \"subir\", \"perseveran (sustativo)\"], #checked#\n",
        "    [\"mayor\", \"gloria\", \"no\", \"esta\" , \"no\",  \"haber\", \"caer\", \"nunca\", \"levantar\", \"cada\",\"vez\", \"caer\", \"perseveran (sustativo)\"], #checked#\n",
        "    [\"victoria\", \"pertenecer\", \"mas\",\"perseveran (sustativo)\",\"perseveran (sustativo)\"],  #checked#\n",
        "    [\"grandes\", \"obras\", \"es/sera/son\", \"hechas\", \"no\", \"fuerza\", \"perseveran (sustativo)\", \"perseveran (sustativo)\"], #checked#\n",
        "    [\"perseveran (sustativo)\", \"es/sera/son\" , \"virtud/virtudes\", \"todas\", \"otras\", \"virtud/virtudes\", \"dar\", \"fruto/frutos\" ,\"perseveran (sustativo)\"], #checked#\n",
        "    [\"puedes\", \"llegar\", \"cualquier\", \"parte\", \"siempre\", \"andes\", \"sufuciente\", \"perseveran (sustativo)\"], #checked#\n",
        "    [\"hombre\", \"superior\", \"es/sera/son\", \"persistente\", \"camino\", \"cierto\", \"no\", \"solo\", \"persistente\", \"perseveran (sustativo)\"] #checked#\n",
        "]\n",
        "\n",
        "#### Function to get the position of a k element in document \n",
        "def termIndexes (documentList, term): \n",
        "  index = []\n",
        "  i = 0\n",
        "  length = len(documentList)\n",
        "  while i < length:\n",
        "    if term == documentList[i]:\n",
        "      index.append(i)\n",
        "    i += 1\n",
        "  return index\n",
        "\n",
        "### Funtion to calculate the distance between \n",
        "def distanceBetweenTerms (termUIndex, termKIndex):\n",
        "  return abs(termUIndex - termKIndex)\n",
        "\n",
        "def sumIndexes (arrayIndexesTermU, arrayIndexesTermK):\n",
        "  sum = 0 \n",
        "  totalSums = 0 \n",
        "  for i in range(len(arrayIndexesTermU)):\n",
        "    for j in range(len(arrayIndexesTermK)):\n",
        "      sum+= 1 / ((distanceBetweenTerms(arrayIndexesTermU[i], arrayIndexesTermK[j]))+1)  ## +1 para suavizar la funcion \n",
        "      totalSums  +=1\n",
        "  return [sum, totalSums]\n",
        "\n",
        "\n",
        "\n",
        "metricMatrix = []\n",
        "normalizedMetricMatrix = []\n",
        "lenghtTerm = len(terms)\n",
        "lengthDocs =  len(documents)\n",
        "for i in range(lenghtTerm):\n",
        "  termMetricArray = []\n",
        "  normalizedTermMetricArray = []\n",
        "  for j in range(lenghtTerm):\n",
        "    subtotalMetric = 0 \n",
        "    totalSums = 0 \n",
        "    termK =  terms[i]\n",
        "    termU =  terms[j]\n",
        "    for k in range(lengthDocs):\n",
        "      indexesKTerm  =  termIndexes(documents[k],termK )\n",
        "      indexesUTerm  = termIndexes(documents[k], termU)\n",
        "      [subtotal,  subsums] = sumIndexes(indexesKTerm, indexesUTerm)\n",
        "      subtotalMetric+= subtotal\n",
        "      totalSums+=subsums  ## for the calculation of the normalized value\n",
        "    termMetricArray.append(subtotalMetric)\n",
        "    normalizedValue = subtotalMetric/totalSums if totalSums > 0 else 0\n",
        "    normalizedTermMetricArray.append(normalizedValue)\n",
        "  metricMatrix.append(termMetricArray)\n",
        "  normalizedMetricMatrix.append(normalizedTermMetricArray)\n",
        "\n",
        "## Results\n",
        "\n",
        "metricMatrixToPrint =  generateTermFrequencySorted(terms,metricMatrix[perseveraciaQueryIndex])\n",
        "print(metricMatrixToPrint)\n",
        "\n",
        "\n",
        "normalizedMetricMatrixToPrint =  generateTermFrequencySorted(terms,normalizedMetricMatrix[perseveraciaQueryIndex])\n",
        "print(normalizedMetricMatrixToPrint)\n",
        "\n",
        "    \n",
        "\n",
        "\n",
        "\n",
        "\n",
        "\n"
      ],
      "metadata": {
        "colab": {
          "base_uri": "https://localhost:8080/"
        },
        "id": "S01OwLSvZ-na",
        "outputId": "6a4dbfd7-85c6-4361-b20f-9b5a9db70f0e"
      },
      "execution_count": null,
      "outputs": [
        {
          "output_type": "stream",
          "name": "stdout",
          "text": [
            "[[16.47222222222222, 'perseveran (sustativo)'], [2.165909090909091, 'es/sera/son'], [1.2678571428571428, 'fruto/frutos'], [1.202020202020202, 'no'], [1.0634920634920635, 'caer'], [0.976190476190476, 'solo'], [0.8928571428571428, 'virtud/virtudes'], [0.8333333333333333, 'mas'], [0.8333333333333333, 'fuerza'], [0.7833333333333332, 'levantar'], [0.6428571428571428, 'persistente'], [0.6111111111111112, 'cuida'], [0.5833333333333333, 'pertenecer'], [0.5, 'subir'], [0.5, 'recoger'], [0.5, 'ocho'], [0.5, 'obligatorio'], [0.5, 'nunca'], [0.47619047619047616, 'dar'], [0.45, 'victoria'], [0.45, 'tiempo'], [0.45, 'hechas'], [0.45, 'cuestion'], [0.43333333333333335, 'fe'], [0.41666666666666663, 'todas'], [0.4, 'otras'], [0.34090909090909094, 'semilla'], [0.3333333333333333, 'vez'], [0.3333333333333333, 'andes'], [0.325, 'haber'], [0.30952380952380953, 'obras'], [0.2833333333333333, 'siembra'], [0.26785714285714285, 'grandes'], [0.26666666666666666, 'esta'], [0.25, 'veces'], [0.25, 'siempre'], [0.25, 'intentar'], [0.25, 'cada'], [0.2, 'siete'], [0.2, 'permitido'], [0.2, 'parte'], [0.2, 'cierto'], [0.16666666666666666, 'cualquier'], [0.16666666666666666, 'camino'], [0.14285714285714285, 'peor'], [0.14285714285714285, 'llegar'], [0.125, 'puedes'], [0.1111111111111111, 'superior'], [0.1, 'hombre'], [0.1, 'duro'], [0.08333333333333333, 'gloria'], [0.07692307692307693, 'mayor'], [0, 'suficiente']]\n",
            "[[0.7487373737373737, 'perseveran (sustativo)'], [0.5, 'subir'], [0.5, 'ocho'], [0.5, 'obligatorio'], [0.41666666666666663, 'mas'], [0.41666666666666663, 'fuerza'], [0.3333333333333333, 'vez'], [0.3333333333333333, 'andes'], [0.32539682539682535, 'solo'], [0.3214285714285714, 'persistente'], [0.3169642857142857, 'fruto/frutos'], [0.3055555555555556, 'cuida'], [0.29166666666666663, 'pertenecer'], [0.26111111111111107, 'levantar'], [0.25, 'veces'], [0.25, 'siempre'], [0.25, 'recoger'], [0.25, 'nunca'], [0.25, 'intentar'], [0.25, 'cada'], [0.23809523809523808, 'dar'], [0.225, 'victoria'], [0.225, 'tiempo'], [0.225, 'hechas'], [0.225, 'cuestion'], [0.2232142857142857, 'virtud/virtudes'], [0.21666666666666667, 'fe'], [0.2165909090909091, 'es/sera/son'], [0.2126984126984127, 'caer'], [0.20833333333333331, 'todas'], [0.20033670033670034, 'no'], [0.2, 'siete'], [0.2, 'permitido'], [0.2, 'parte'], [0.2, 'otras'], [0.2, 'cierto'], [0.17045454545454547, 'semilla'], [0.16666666666666666, 'cualquier'], [0.16666666666666666, 'camino'], [0.1625, 'haber'], [0.15476190476190477, 'obras'], [0.14285714285714285, 'peor'], [0.14285714285714285, 'llegar'], [0.14166666666666666, 'siembra'], [0.13392857142857142, 'grandes'], [0.13333333333333333, 'esta'], [0.125, 'puedes'], [0.1111111111111111, 'superior'], [0.1, 'hombre'], [0.1, 'duro'], [0.08333333333333333, 'gloria'], [0.07692307692307693, 'mayor'], [0, 'suficiente']]\n"
          ]
        }
      ]
    },
    {
      "cell_type": "code",
      "source": [
        "### Scalar clusters\n",
        "\n",
        "sizeNewMatrix = len(newMatrix)\n",
        "scalarMatrix = []\n",
        "for i in range(sizeNewMatrix):\n",
        "  scalarArray = []\n",
        "  for j in range(sizeNewMatrix):\n",
        "    newScalarValueUV = sumProduct(newMatrix[i], newMatrix[j]) / (getNorma(newMatrix[i])*getNorma(newMatrix[j]))\n",
        "    scalarArray.append(newScalarValueUV)\n",
        "  scalarMatrix.append(scalarArray)\n",
        "\n",
        "\n",
        "## Results \n",
        "scalarMatrixToPrint =  generateTermFrequencySorted(terms,scalarMatrix[perseveraciaQueryIndex])\n",
        "print(scalarMatrixToPrint)"
      ],
      "metadata": {
        "colab": {
          "base_uri": "https://localhost:8080/"
        },
        "id": "T7ahpntVAxCh",
        "outputId": "3b67736a-f71e-4071-c9c7-4b0af73f4307"
      },
      "execution_count": null,
      "outputs": [
        {
          "output_type": "stream",
          "name": "stdout",
          "text": [
            "[[1.0, 'perseveran (sustativo)'], [0.9269222046737368, 'es/sera/son'], [0.830667575818071, 'fruto/frutos'], [0.7588416157265006, 'obras'], [0.7588416157265006, 'hechas'], [0.7588416157265006, 'grandes'], [0.7588416157265006, 'fuerza'], [0.7575986892516208, 'no'], [0.7504546518313756, 'solo'], [0.7073583310988757, 'tiempo'], [0.7073583310988757, 'siembra'], [0.7073583310988757, 'semilla'], [0.7073583310988757, 'recoger'], [0.7073583310988757, 'fe'], [0.7073583310988757, 'cuida'], [0.7073583310988757, 'cuestion'], [0.7046980141307617, 'virtud/virtudes'], [0.7046980141307617, 'todas'], [0.7046980141307617, 'otras'], [0.7046980141307617, 'dar'], [0.6703265703051113, 'caer'], [0.6669038301984188, 'victoria'], [0.6669038301984188, 'pertenecer'], [0.6669038301984188, 'mas'], [0.6435023627055456, 'levantar'], [0.6277661531428821, 'nunca'], [0.6277661531428821, 'haber'], [0.6112574180239431, 'esta'], [0.5970358175274508, 'subir'], [0.5970358175274508, 'peor'], [0.5970358175274508, 'intentar'], [0.5970358175274508, 'duro'], [0.5868753705746086, 'permitido'], [0.5868753705746086, 'obligatorio'], [0.49916908957957107, 'superior'], [0.49916908957957107, 'persistente'], [0.49916908957957107, 'hombre'], [0.49916908957957107, 'cierto'], [0.49916908957957107, 'camino'], [0.4878570915665879, 'vez'], [0.4878570915665879, 'mayor'], [0.4878570915665879, 'gloria'], [0.4878570915665879, 'cada'], [0.47542338737200757, 'veces'], [0.47542338737200757, 'siete'], [0.47542338737200757, 'ocho'], [0.3618222181668135, 'suficiente'], [0.3618222181668135, 'siempre'], [0.3618222181668135, 'puedes'], [0.3618222181668135, 'parte'], [0.3618222181668135, 'llegar'], [0.3618222181668135, 'cualquier'], [0.3618222181668135, 'andes']]\n"
          ]
        }
      ]
    }
  ]
}